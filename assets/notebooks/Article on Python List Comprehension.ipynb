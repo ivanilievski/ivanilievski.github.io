{
 "cells": [
  {
   "cell_type": "markdown",
   "id": "c9f991ef",
   "metadata": {},
   "source": [
    "## Code Snippet 1"
   ]
  },
  {
   "cell_type": "code",
   "execution_count": 5,
   "id": "c2b603b0",
   "metadata": {},
   "outputs": [
    {
     "name": "stdout",
     "output_type": "stream",
     "text": [
      "[0, 1, 2, 3, 4]\n"
     ]
    }
   ],
   "source": [
    "# Simple For loop\n",
    "number_list = []\n",
    "for number in range(5):\n",
    "    number_list.append(number)\n",
    "\n",
    "print(number_list)"
   ]
  },
  {
   "cell_type": "code",
   "execution_count": 8,
   "id": "eea9f772",
   "metadata": {},
   "outputs": [
    {
     "name": "stdout",
     "output_type": "stream",
     "text": [
      "[0, 1, 2, 3, 4]\n"
     ]
    }
   ],
   "source": [
    "# Same output but with list comprehension\n",
    "list_of_numbers = [number for number in range(5)]\n",
    "print(list_of_numbers)"
   ]
  },
  {
   "cell_type": "markdown",
   "id": "47929d4b",
   "metadata": {},
   "source": [
    "## Code Snippet 2"
   ]
  },
  {
   "cell_type": "code",
   "execution_count": 56,
   "id": "08e74dfa",
   "metadata": {},
   "outputs": [
    {
     "name": "stdout",
     "output_type": "stream",
     "text": [
      "[1, 4, 9, 16, 25, 36, 49, 64, 81, 100]\n"
     ]
    }
   ],
   "source": [
    "old_number_list = [1,2,3,4,5,6,7,8,9,10]\n",
    "squared_numbers = []\n",
    "\n",
    "for number in old_number_list:\n",
    "    squared_numbers.append(number ** 2)\n",
    "    \n",
    "print(squared_numbers)"
   ]
  },
  {
   "cell_type": "code",
   "execution_count": 57,
   "id": "e364fcc4",
   "metadata": {},
   "outputs": [
    {
     "name": "stdout",
     "output_type": "stream",
     "text": [
      "[1, 4, 9, 16, 25, 36, 49, 64, 81, 100]\n"
     ]
    }
   ],
   "source": [
    "# List Comprehension\n",
    "\n",
    "list_of_squared_numbers = [number ** 2 for number in old_number_list]\n",
    "print(list_of_squared_numbers)"
   ]
  },
  {
   "cell_type": "markdown",
   "id": "14a40d48",
   "metadata": {},
   "source": [
    "## Code Snippet 3"
   ]
  },
  {
   "cell_type": "code",
   "execution_count": 16,
   "id": "5a0803c3",
   "metadata": {
    "scrolled": true
   },
   "outputs": [
    {
     "name": "stdout",
     "output_type": "stream",
     "text": [
      "[4, 16, 36, 64, 100]\n"
     ]
    }
   ],
   "source": [
    "old_number_list = [1,2,3,4,5,6,7,8,9,10]\n",
    "even_squared_numbers = []\n",
    "\n",
    "for number in old_number_list:\n",
    "    if number % 2 == 0:\n",
    "        even_squared_numbers.append(number ** 2)\n",
    "    \n",
    "print(even_squared_numbers)"
   ]
  },
  {
   "cell_type": "code",
   "execution_count": 58,
   "id": "2accd924",
   "metadata": {},
   "outputs": [
    {
     "name": "stdout",
     "output_type": "stream",
     "text": [
      "[4, 16, 36, 64, 100]\n"
     ]
    }
   ],
   "source": [
    "# List Comprehension\n",
    "\n",
    "even_squared_numbers = [number ** 2 for number in old_number_list if number % 2 == 0]\n",
    "print(even_squared_numbers)"
   ]
  },
  {
   "cell_type": "markdown",
   "id": "0cb1e17a",
   "metadata": {},
   "source": [
    "## Code Snippet 4"
   ]
  },
  {
   "cell_type": "code",
   "execution_count": 19,
   "id": "fa8f6f3f",
   "metadata": {},
   "outputs": [
    {
     "name": "stdout",
     "output_type": "stream",
     "text": [
      "['London', 'Berlin', 'Paris', 'Dublin', 'Belgrade']\n"
     ]
    }
   ],
   "source": [
    "incorect_capital_cities = ['lONDon', 'bErliN', 'pAris', 'dublin', 'belGrade']\n",
    "corect_capital_cities = []\n",
    "\n",
    "for citie in incorect_capital_cities:\n",
    "    corect_capital_cities.append(citie.capitalize())\n",
    "    \n",
    "print(corect_capital_cities)"
   ]
  },
  {
   "cell_type": "code",
   "execution_count": 20,
   "id": "129ad11c",
   "metadata": {},
   "outputs": [
    {
     "name": "stdout",
     "output_type": "stream",
     "text": [
      "['London', 'Berlin', 'Paris', 'Dublin', 'Belgrade']\n"
     ]
    }
   ],
   "source": [
    "# List Comprehension\n",
    "\n",
    "list_of_capital_cities = [citie.capitalize() for citie in incorect_capital_cities]\n",
    "print(list_of_capital_cities)"
   ]
  },
  {
   "cell_type": "markdown",
   "id": "d4611241",
   "metadata": {},
   "source": [
    "## Code Snippet 5"
   ]
  },
  {
   "cell_type": "code",
   "execution_count": 63,
   "id": "65d234cf",
   "metadata": {},
   "outputs": [
    {
     "name": "stdout",
     "output_type": "stream",
     "text": [
      "[16, 36, 64]\n"
     ]
    }
   ],
   "source": [
    "nested_list = [\n",
    "    [1,2,3],\n",
    "    [4,5,6],\n",
    "    [7,8,9]\n",
    "]\n",
    "\n",
    "regular_list = []\n",
    "\n",
    "for row in nested_list:\n",
    "    if sum(row) > 10:\n",
    "        for number in row:\n",
    "            if number % 2 == 0 and number:\n",
    "                regular_list.append(number*number)\n",
    "                \n",
    "print(regular_list)"
   ]
  },
  {
   "cell_type": "code",
   "execution_count": 59,
   "id": "f1b94543",
   "metadata": {},
   "outputs": [
    {
     "name": "stdout",
     "output_type": "stream",
     "text": [
      "[16, 36, 64]\n"
     ]
    }
   ],
   "source": [
    "nested_list = [[1, 2, 3], [4, 5, 6], [7, 8, 9]]\n",
    "flattened_even_squares = [number**2 for row in matrix if sum(row) > 10 for number in row if number % 2 == 0]\n",
    "print(flattened_even_squares)"
   ]
  },
  {
   "cell_type": "markdown",
   "id": "f91c0dab",
   "metadata": {},
   "source": [
    "## Code Snippet 6"
   ]
  },
  {
   "cell_type": "code",
   "execution_count": 44,
   "id": "41479128",
   "metadata": {},
   "outputs": [
    {
     "name": "stdout",
     "output_type": "stream",
     "text": [
      "{'Biography': 10, 'Self-help': 34, 'Novel': 17, 'Science fiction': 68}\n"
     ]
    }
   ],
   "source": [
    "# Dictionary comprehension\n",
    "\n",
    "book_genres = ['Biography', 'Self-help', 'Novel', 'Science fiction']\n",
    "book_reads = [10, 34, 17, 68]\n",
    "\n",
    "my_library = {book_genre:book_read for (book_genre, book_read) in zip(book_genres, book_reads)}\n",
    "print(my_library)"
   ]
  },
  {
   "cell_type": "markdown",
   "id": "af3bfe64",
   "metadata": {},
   "source": [
    "## Code Snippet 7"
   ]
  },
  {
   "cell_type": "code",
   "execution_count": 54,
   "id": "ec6263a0",
   "metadata": {},
   "outputs": [
    {
     "name": "stdout",
     "output_type": "stream",
     "text": [
      "{1, 2, 3}\n"
     ]
    }
   ],
   "source": [
    "print({item for item in [1,2,1,3]})"
   ]
  },
  {
   "cell_type": "code",
   "execution_count": 55,
   "id": "8852b9a7",
   "metadata": {},
   "outputs": [
    {
     "name": "stdout",
     "output_type": "stream",
     "text": [
      "{'w', 'e', 'o', 'r', 'l', ' ', 'h', 'd'}\n"
     ]
    }
   ],
   "source": [
    "my_string = \"hello world\"\n",
    "unique_chars = {char for char in my_string}\n",
    "print(unique_chars)"
   ]
  },
  {
   "cell_type": "markdown",
   "id": "d4b301b2",
   "metadata": {},
   "source": [
    "## Test Code speed of execution with timeit"
   ]
  },
  {
   "cell_type": "code",
   "execution_count": 102,
   "id": "e0d68821",
   "metadata": {},
   "outputs": [
    {
     "name": "stdout",
     "output_type": "stream",
     "text": [
      "List comprehension time: 0.3591267939773388s\n",
      "Generator expression time: 0.03754862799542025s\n",
      "Map and lambda time: 0.3893185280030593s\n",
      "For loop time: 0.37010765803279355s\n"
     ]
    }
   ],
   "source": [
    "import timeit\n",
    "\n",
    "# Define the list\n",
    "number_list = [1, 2, 3, 4, 5, 6, 7, 8, 9, 10]\n",
    "\n",
    "# Using list comprehension\n",
    "list_comp_time = timeit.timeit('[number**2 for number in number_list]', globals=globals(), number=100000)\n",
    "print(f\"List comprehension time: {list_comp_time}s\")\n",
    "\n",
    "# Using generator expression\n",
    "gen_exp_time = timeit.timeit('(number**2 for number in number_list)', globals=globals(), number=100000)\n",
    "print(f\"Generator expression time: {gen_exp_time}s\")\n",
    "\n",
    "# Using map and lambda function\n",
    "map_time = timeit.timeit('list(map(lambda number: number**2, number_list))', globals=globals(), number=100000)\n",
    "print(f\"Map and lambda time: {map_time}s\")\n",
    "\n",
    "# Using for loop and append method\n",
    "loop_time = timeit.timeit('''\n",
    "squared_list = []\n",
    "for number in number_list:\n",
    "    squared_list.append(number**2)\n",
    "''', globals=globals(), number=100000)\n",
    "print(f\"For loop time: {loop_time}s\")\n"
   ]
  },
  {
   "cell_type": "code",
   "execution_count": 104,
   "id": "e303beb5",
   "metadata": {},
   "outputs": [
    {
     "name": "stdout",
     "output_type": "stream",
     "text": [
      "List comprehension time: 343.2400114139891s\n",
      "Map and lambda time: 386.7814891629969s\n",
      "For loop time: 354.7001655140193s\n"
     ]
    }
   ],
   "source": [
    "import timeit\n",
    "\n",
    "# Define the list\n",
    "number_list = [1, 2, 3, 4, 5, 6, 7, 8, 9, 10]\n",
    "\n",
    "# Using list comprehension\n",
    "list_comp_time = timeit.timeit('[number**2 for number in number_list]', globals=globals(), number=100000000)\n",
    "print(f\"List comprehension time: {list_comp_time}s\")\n",
    "\n",
    "# Using map and lambda function\n",
    "map_time = timeit.timeit('list(map(lambda number: number**2, number_list))', globals=globals(), number=100000000)\n",
    "print(f\"Map and lambda time: {map_time}s\")\n",
    "\n",
    "# Using for loop and append method\n",
    "loop_time = timeit.timeit('''\n",
    "squared_list = []\n",
    "for number in number_list:\n",
    "    squared_list.append(number**2)\n",
    "''', globals=globals(), number=100000000)\n",
    "print(f\"For loop time: {loop_time}s\")\n"
   ]
  },
  {
   "cell_type": "code",
   "execution_count": null,
   "id": "88b5405a",
   "metadata": {},
   "outputs": [],
   "source": []
  }
 ],
 "metadata": {
  "kernelspec": {
   "display_name": "Python 3 (ipykernel)",
   "language": "python",
   "name": "python3"
  },
  "language_info": {
   "codemirror_mode": {
    "name": "ipython",
    "version": 3
   },
   "file_extension": ".py",
   "mimetype": "text/x-python",
   "name": "python",
   "nbconvert_exporter": "python",
   "pygments_lexer": "ipython3",
   "version": "3.10.6"
  }
 },
 "nbformat": 4,
 "nbformat_minor": 5
}
